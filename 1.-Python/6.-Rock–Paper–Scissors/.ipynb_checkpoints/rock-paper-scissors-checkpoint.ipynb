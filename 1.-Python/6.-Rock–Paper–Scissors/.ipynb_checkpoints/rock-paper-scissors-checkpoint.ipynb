{
 "cells": [
  {
   "cell_type": "markdown",
   "metadata": {},
   "source": [
    "<img src=\"https://bit.ly/2VnXWr2\" width=\"100\" align=\"left\">"
   ]
  },
  {
   "cell_type": "markdown",
   "metadata": {},
   "source": [
    "# Rock, Paper & Scissors\n",
    "\n",
    "Let's play the famous game against our computer. You can check the rules [here](https://en.wikipedia.org/wiki/Rock%E2%80%93paper%E2%80%93scissors). \n",
    "\n",
    "## Task\n",
    "Create a program that imitates the playability of the well known game of rock, paper, scissors. Follow the guidelines provided.\n",
    "\n",
    "## Tools\n",
    "1. Loop: **for/while**\n",
    "2. Functions: **input(), print()...**\n",
    "3. Conditional statements: **if, elif, else**\n",
    "4. Definition of functions. Modular programming\n",
    "5. Import modules\n",
    "\n",
    "**To solve this challenge, the use of functions is recommended.**\n",
    "\n",
    "#### 1. Import the choice function of the random module."
   ]
  },
  {
   "cell_type": "code",
   "execution_count": 32,
   "metadata": {},
   "outputs": [
    {
     "data": {
      "text/plain": [
       "'Rock'"
      ]
     },
     "execution_count": 32,
     "metadata": {},
     "output_type": "execute_result"
    }
   ],
   "source": [
    "import random \n",
    "random.choice([\"Rock\",\"Paper\",\"Scissor\"])"
   ]
  },
  {
   "cell_type": "markdown",
   "metadata": {},
   "source": [
    "#### 2. Create a list that includes the 3 possible gesture options of the game: 'rock', 'paper' or 'scissors'. Store the list in a variable called `gestures`."
   ]
  },
  {
   "cell_type": "code",
   "execution_count": 33,
   "metadata": {},
   "outputs": [],
   "source": [
    "gestures = [\"Rock\",\"Paper\",\"Scissor\"]"
   ]
  },
  {
   "cell_type": "markdown",
   "metadata": {},
   "source": [
    "#### 3. Create a variable called `n_rounds` to store the maximum number of rounds to play in a game. \n",
    "Remember that the number of rounds must be odd: 1, 3, 5, ..."
   ]
  },
  {
   "cell_type": "code",
   "execution_count": 106,
   "metadata": {},
   "outputs": [
    {
     "name": "stdout",
     "output_type": "stream",
     "text": [
      "Enter maximum number of rounds:5\n",
      "Max rounds: 5 !\n"
     ]
    }
   ],
   "source": [
    "def set_max_rounds():\n",
    "    x = int(max([float(input('Enter maximum number of rounds:')),1]))\n",
    "    if (x%2 != 1):\n",
    "        n_rounds = x + 1\n",
    "        print(\"Max rounds changed to next odd-number:\", n_rounds, \"!\")\n",
    "    else:\n",
    "        n_rounds =  x\n",
    "        print(\"Max rounds:\", n_rounds,\"!\")\n",
    "    return n_rounds\n",
    "n_rounds = set_max_rounds()"
   ]
  },
  {
   "cell_type": "markdown",
   "metadata": {},
   "source": [
    "#### 4. Create a variable called `rounds_to_win` to store the number of rounds that a player must win to win the game.\n",
    "**Hint**: the value stored in `rounds_to_win` depends on the value of `n_rounds`. "
   ]
  },
  {
   "cell_type": "code",
   "execution_count": 107,
   "metadata": {},
   "outputs": [],
   "source": [
    "def calc_rounds_to_win(n):\n",
    "    x = (n-1)/2+1\n",
    "    return x\n",
    "\n",
    "rounds_to_win = calc_rounds_to_win(n_rounds)"
   ]
  },
  {
   "cell_type": "markdown",
   "metadata": {},
   "source": [
    "#### 5. Create two variables to store the number of rounds that the computer and the player have won. Call these variables `cpu_score` and `player_score`."
   ]
  },
  {
   "cell_type": "code",
   "execution_count": 135,
   "metadata": {},
   "outputs": [],
   "source": [
    "cpu_score = 0\n",
    "player_score = 0"
   ]
  },
  {
   "cell_type": "markdown",
   "metadata": {},
   "source": [
    "#### 6. Define a function that randomly returns one of the 3 gesture options.\n",
    "You will use this function to simulate the gesture choice of the computer. "
   ]
  },
  {
   "cell_type": "code",
   "execution_count": 36,
   "metadata": {},
   "outputs": [
    {
     "data": {
      "text/plain": [
       "'Rock'"
      ]
     },
     "execution_count": 36,
     "metadata": {},
     "output_type": "execute_result"
    }
   ],
   "source": [
    "def comp_gesture(gestures):\n",
    "    return random.choice(gestures)\n",
    "comp_gesture(gestures)"
   ]
  },
  {
   "cell_type": "markdown",
   "metadata": {},
   "source": [
    "#### 7. Define a function that asks the player which is the gesture he or she wants to show: 'rock', 'paper' or 'scissors'.\n",
    "The player should only be allowed to choose one of the 3 gesture options. If the player's choice is not rock, paper or scissors, keep asking until it is."
   ]
  },
  {
   "cell_type": "code",
   "execution_count": 95,
   "metadata": {},
   "outputs": [],
   "source": [
    "def chose_gesture(gestures):\n",
    "    answer = int(max([float(input(\"Chose your gesture: \\n 1=rock \\n 2=paper \\n 3=scissor\")),0]))\n",
    "    while ((answer == 1) | (answer == 2) | (answer == 3))==False:\n",
    "        answer = int(max([float(input(\"Chose your gesture: \\n 1=rock \\n 2=paper \\n 3=scissor\")),0]))\n",
    "    return gestures[answer-1]"
   ]
  },
  {
   "cell_type": "markdown",
   "metadata": {},
   "source": [
    "#### 8. Define a function that checks who won a round. \n",
    "The function should return 0 if there is a tie, 1 if the computer wins and 2 if the player wins."
   ]
  },
  {
   "cell_type": "code",
   "execution_count": 78,
   "metadata": {},
   "outputs": [],
   "source": [
    "def get_winner_of_rockpaperscissor(player_answer, comp_answer):\n",
    "    if (player_answer == 'Paper'):\n",
    "        if (comp_answer == 'Paper'):\n",
    "            return 0\n",
    "        elif (comp_answer == 'Scissor'):\n",
    "            return 1\n",
    "        else:\n",
    "            return 2\n",
    "    elif (player_answer == 'Rock'):\n",
    "        if (comp_answer == 'Rock'):\n",
    "            return 0\n",
    "        elif (comp_answer == 'Paper'):\n",
    "            return 1\n",
    "        else:\n",
    "            return 2        \n",
    "    else:\n",
    "        if (comp_answer == 'Scissor'):\n",
    "            return 0\n",
    "        elif (comp_answer == 'Rock'):\n",
    "            return 1\n",
    "        else:\n",
    "            return 2 \n",
    "        \n"
   ]
  },
  {
   "cell_type": "markdown",
   "metadata": {},
   "source": [
    "#### 9. Define a function that prints the choice of the computer, the choice of the player and a message that announces who won the current round. \n",
    "You should also use this function to update the variables that count the number of rounds that the computer and the player have won. The score of the winner increases by one point. If there is a tie, the score does not increase."
   ]
  },
  {
   "cell_type": "code",
   "execution_count": 120,
   "metadata": {},
   "outputs": [],
   "source": [
    "def print_choices_and_winner():\n",
    "    global player_score, cpu_score\n",
    "    winner = [\"Tie\",\"Computer wins this round\", \"Player wins this round\"]\n",
    "    player_answer = chose_gesture(gestures)\n",
    "    comp_answer = comp_gesture(gestures)\n",
    "    print(\"Player chosed:\", player_answer, \"\\nComputer chosed:\", comp_answer)\n",
    "    idx_win = get_winner_of_rockpaperscissor(player_answer, comp_answer)\n",
    "    if idx_win == 1:\n",
    "        cpu_score += 1\n",
    "    elif idx_win == 2:\n",
    "        player_score += 1\n",
    "    print(winner[idx_win])\n",
    "    return [player_score, cpu_score]\n",
    "    \n"
   ]
  },
  {
   "cell_type": "markdown",
   "metadata": {},
   "source": [
    "#### 10. Now it's time to code the execution of the game using the functions and variables you defined above. \n",
    "\n",
    "First, create a loop structure that repeats while no player reaches the minimum score necessary to win and the number of rounds is less than the maximum number of rounds to play in a game.  \n",
    "\n",
    "Inside the loop, use the functions and variables above to create the execution of a round: ask for the player's choice, generate the random choice of the computer, show the round results, update the scores, etc. "
   ]
  },
  {
   "cell_type": "code",
   "execution_count": 136,
   "metadata": {},
   "outputs": [
    {
     "name": "stdout",
     "output_type": "stream",
     "text": [
      "Chose your gesture: \n",
      " 1=rock \n",
      " 2=paper \n",
      " 3=scissor1\n",
      "Player chosed: Rock \n",
      "Computer chosed: Rock\n",
      "Tie\n",
      "CPU-Score: 0 \n",
      "Player-Score: 0\n",
      "Chose your gesture: \n",
      " 1=rock \n",
      " 2=paper \n",
      " 3=scissor2\n",
      "Player chosed: Paper \n",
      "Computer chosed: Rock\n",
      "Player wins this round\n",
      "CPU-Score: 0 \n",
      "Player-Score: 1\n",
      "Chose your gesture: \n",
      " 1=rock \n",
      " 2=paper \n",
      " 3=scissor3\n",
      "Player chosed: Scissor \n",
      "Computer chosed: Rock\n",
      "Computer wins this round\n",
      "CPU-Score: 1 \n",
      "Player-Score: 1\n",
      "Chose your gesture: \n",
      " 1=rock \n",
      " 2=paper \n",
      " 3=scissor1\n",
      "Player chosed: Rock \n",
      "Computer chosed: Scissor\n",
      "Player wins this round\n",
      "CPU-Score: 1 \n",
      "Player-Score: 2\n",
      "Chose your gesture: \n",
      " 1=rock \n",
      " 2=paper \n",
      " 3=scissor2\n",
      "Player chosed: Paper \n",
      "Computer chosed: Scissor\n",
      "Computer wins this round\n",
      "CPU-Score: 2 \n",
      "Player-Score: 2\n",
      "Chose your gesture: \n",
      " 1=rock \n",
      " 2=paper \n",
      " 3=scissor3\n",
      "Player chosed: Scissor \n",
      "Computer chosed: Rock\n",
      "Computer wins this round\n",
      "CPU-Score: 3 \n",
      "Player-Score: 2\n"
     ]
    }
   ],
   "source": [
    "def play_rockpaperscissor(n_rounds,rounds_to_win):\n",
    "    global player_score, cpu_score\n",
    "    while (max([player_score,cpu_score])< rounds_to_win):\n",
    "        print_choices_and_winner()\n",
    "        print(\"CPU-Score:\", cpu_score,\"\\nPlayer-Score:\" , player_score)\n",
    "        \n",
    "play_rockpaperscissor(n_rounds, rounds_to_win)"
   ]
  },
  {
   "cell_type": "markdown",
   "metadata": {},
   "source": [
    "#### 11. Print the winner of the game based on who won more rounds.\n",
    "Remember that the game might be tied. "
   ]
  },
  {
   "cell_type": "code",
   "execution_count": 137,
   "metadata": {},
   "outputs": [
    {
     "name": "stdout",
     "output_type": "stream",
     "text": [
      "Computer won the Game!\n"
     ]
    }
   ],
   "source": [
    "#there is always a winner after the maximum amount of rounds played (n_rounds) due to odd maximum rounds numbers and tie's wont increase scores\n",
    "def print_winner(player_score, cpu_score):\n",
    "    if player_score > cpu_score: \n",
    "        print(\"Player won the Game!\")\n",
    "    elif player_score < cpu_score:\n",
    "        print(\"Computer won the Game!\")\n",
    "    else:\n",
    "        print(\"Play the game first, since both Player have zero points\")\n",
    "        \n",
    "print_winner(player_score, cpu_score)"
   ]
  },
  {
   "cell_type": "markdown",
   "metadata": {},
   "source": [
    "# Bonus: Rock, Paper, Scissors, Lizard & Spock\n",
    "![](images/rpsls.jpg)\n",
    "\n",
    "In this challenge, you need to improve the previous game by adding two new options. To know more about the rules of the improved version of rock, paper, scissors, check this [link](http://www.samkass.com/theories/RPSSL.html). \n",
    "\n",
    "In addition, you will also need to improve how the game interacts with the player: the number of rounds to play, which must be an odd number, will be requested to the user until a valid number is entered. Define a new function to make that request.\n",
    "\n",
    "**Hint**: Try to reuse the code that you already coded in the previous challenge. If your code is efficient, this bonus will only consist of simple modifications to the original game."
   ]
  },
  {
   "cell_type": "code",
   "execution_count": null,
   "metadata": {},
   "outputs": [],
   "source": []
  }
 ],
 "metadata": {
  "kernelspec": {
   "display_name": "Python 3",
   "language": "python",
   "name": "python3"
  },
  "language_info": {
   "codemirror_mode": {
    "name": "ipython",
    "version": 3
   },
   "file_extension": ".py",
   "mimetype": "text/x-python",
   "name": "python",
   "nbconvert_exporter": "python",
   "pygments_lexer": "ipython3",
   "version": "3.8.5"
  }
 },
 "nbformat": 4,
 "nbformat_minor": 2
}
